{
 "cells": [
  {
   "cell_type": "code",
   "execution_count": 45,
   "metadata": {
    "collapsed": true
   },
   "outputs": [],
   "source": [
    "from sklearn.feature_extraction.text import TfidfVectorizer, CountVectorizer\n",
    "from sklearn.feature_selection import SelectKBest, chi2\n",
    "from sklearn import metrics, ensemble, linear_model, svm\n",
    "from numpy import log, ones, array, zeros, mean, std, repeat\n",
    "import numpy as np\n",
    "import scipy.sparse as sp\n",
    "import re\n",
    "import csv\n",
    "from time import time\n",
    "import pandas as pd\n",
    "from sklearn.model_selection import train_test_split\n"
   ]
  },
  {
   "cell_type": "code",
   "execution_count": 46,
   "metadata": {
    "collapsed": true
   },
   "outputs": [],
   "source": [
    "\n",
    "DIR_PATH = \"\"\n",
    "\n",
    "TRAIN_FILE      = DIR_PATH + \"train.csv\"\n",
    "BADWORDS_FILE   = DIR_PATH + \"badwords.txt\"              # attached with submission  \n",
    "\n",
    "\n",
    "\n",
    "\n",
    "def normalize(f):\n",
    "    f = [x.lower() for x in f]\n",
    "    f = [x.replace(\"\\\\n\",\" \") for x in f]        \n",
    "    f = [x.replace(\"\\\\t\",\" \") for x in f]        \n",
    "    f = [x.replace(\"\\\\xa0\",\" \") for x in f]\n",
    "    f = [x.replace(\"\\\\xc2\",\" \") for x in f]\n",
    "\n",
    "    #f = [x.replace(\",\",\" \").replace(\".\",\" \").replace(\" \", \"  \") for x in f]\n",
    "    #f = [x.replace(\"  \",\" \") for x in f]\n",
    "\n",
    "    f = [x.replace(\" u \",\" you \") for x in f]\n",
    "    f = [x.replace(\" em \",\" them \") for x in f]\n",
    "    f = [x.replace(\" da \",\" the \") for x in f]\n",
    "    f = [x.replace(\" yo \",\" you \") for x in f]\n",
    "    f = [x.replace(\" ur \",\" you \") for x in f]\n",
    "    #f = [x.replace(\" ur \",\" your \") for x in f]\n",
    "    #f = [x.replace(\" ur \",\" you're \") for x in f]\n",
    "    \n",
    "    f = [x.replace(\"won't\", \"will not\") for x in f]\n",
    "    f = [x.replace(\"can't\", \"cannot\") for x in f]\n",
    "    f = [x.replace(\"i'm\", \"i am\") for x in f]\n",
    "    f = [x.replace(\" im \", \" i am \") for x in f]\n",
    "    f = [x.replace(\"ain't\", \"is not\") for x in f]\n",
    "    f = [x.replace(\"'ll\", \" will\") for x in f]\n",
    "    f = [x.replace(\"'t\", \" not\") for x in f]\n",
    "    f = [x.replace(\"'ve\", \" have\") for x in f]\n",
    "    f = [x.replace(\"'s\", \" is\") for x in f]\n",
    "    f = [x.replace(\"'re\", \" are\") for x in f]\n",
    "    f = [x.replace(\"'d\", \" would\") for x in f]\n",
    "\n",
    "    #f = [x.replace(\"outta\", \"out of\") for x in f]\n",
    "\n",
    "    bwMap = loadBW()\n",
    "    for key, value in bwMap.items():\n",
    "        kpad = \" \" + key + \" \"\n",
    "        vpad = \" \" + value + \" \"\n",
    "        f = [x.replace(kpad, vpad) for x in f]\n",
    "        \n",
    "    # stemming    \n",
    "    f = [re.subn(\"ies( |$)\", \"y \", x)[0].strip() for x in f]\n",
    "    f = [re.subn(\"s( |$)\", \" \", x)[0].strip() for x in f]\n",
    "    f = [re.subn(\"ing( |$)\", \" \", x)[0].strip() for x in f]\n",
    "        \n",
    "    f = [re.subn(\" [*$%&#@][*$%&#@]+\",\" xexp \", x)[0].strip() for x in f]\n",
    "    f = [re.subn(\" [0-9]+ \",\" DD \", x)[0].strip() for x in f]\n",
    "    return f\n",
    "\n",
    "\n",
    "\n",
    "def loadBW():\n",
    "    f = open(BADWORDS_FILE, \"r\")\n",
    "    bwMap = dict()\n",
    "    for line in f:\n",
    "        sp = line.strip().lower().split(\",\")\n",
    "        if len(sp) == 2:\n",
    "            bwMap[sp[0].strip()] = sp[1].strip()\n",
    "    return bwMap\n",
    "\n",
    "\n",
    "\n",
    "def readCsv(fname, skipFirst=True, delimiter = \",\"):\n",
    "    reader = csv.reader(open(fname),delimiter=delimiter)\n",
    "    \n",
    "    rows = []\n",
    "    count = 1\n",
    "    for row in reader:\n",
    "        if not skipFirst or count > 1:      \n",
    "            rows.append(row)\n",
    "        count += 1\n",
    "    return rows\n",
    "\n",
    "\n",
    "\n"
   ]
  },
  {
   "cell_type": "code",
   "execution_count": 47,
   "metadata": {},
   "outputs": [],
   "source": [
    "dataset=pd.read_csv(TRAIN_FILE)\n",
    "x=dataset.iloc[:,2].values\n",
    "y=dataset.iloc[:,0].values\n",
    "X_train, X_test, y_train, y_test = train_test_split(x, y, test_size = 1/3, random_state = 0)"
   ]
  },
  {
   "cell_type": "code",
   "execution_count": 48,
   "metadata": {},
   "outputs": [
    {
     "data": {
      "text/plain": [
       "(2631,)"
      ]
     },
     "execution_count": 48,
     "metadata": {},
     "output_type": "execute_result"
    }
   ],
   "source": [
    "X_train.shape"
   ]
  },
  {
   "cell_type": "code",
   "execution_count": 49,
   "metadata": {},
   "outputs": [
    {
     "data": {
      "text/plain": [
       "(1316,)"
      ]
     },
     "execution_count": 49,
     "metadata": {},
     "output_type": "execute_result"
    }
   ],
   "source": [
    "X_test.shape"
   ]
  },
  {
   "cell_type": "code",
   "execution_count": 50,
   "metadata": {},
   "outputs": [
    {
     "ename": "TypeError",
     "evalue": "fit_transform() missing 1 required positional argument: 'raw_documents'",
     "output_type": "error",
     "traceback": [
      "\u001b[0;31m---------------------------------------------------------------------------\u001b[0m",
      "\u001b[0;31mTypeError\u001b[0m                                 Traceback (most recent call last)",
      "\u001b[0;32m<ipython-input-50-67b7592be313>\u001b[0m in \u001b[0;36m<module>\u001b[0;34m()\u001b[0m\n\u001b[1;32m      1\u001b[0m \u001b[0mvectorizer\u001b[0m \u001b[0;34m=\u001b[0m \u001b[0mCountVectorizer\u001b[0m\u001b[0;34m(\u001b[0m\u001b[0mmax_df\u001b[0m\u001b[0;34m=\u001b[0m\u001b[0;36m1\u001b[0m\u001b[0;34m,\u001b[0m\u001b[0mmin_df\u001b[0m\u001b[0;34m=\u001b[0m\u001b[0;36m1\u001b[0m\u001b[0;34m,\u001b[0m\u001b[0mbinary\u001b[0m\u001b[0;34m=\u001b[0m\u001b[0;32mTrue\u001b[0m\u001b[0;34m)\u001b[0m\u001b[0;34m\u001b[0m\u001b[0m\n\u001b[0;32m----> 2\u001b[0;31m \u001b[0mX_train\u001b[0m \u001b[0;34m=\u001b[0m \u001b[0mvectorizer\u001b[0m\u001b[0;34m.\u001b[0m\u001b[0mfit_transform\u001b[0m\u001b[0;34m(\u001b[0m\u001b[0;34m)\u001b[0m\u001b[0;34m\u001b[0m\u001b[0m\n\u001b[0m",
      "\u001b[0;31mTypeError\u001b[0m: fit_transform() missing 1 required positional argument: 'raw_documents'"
     ]
    }
   ],
   "source": [
    "vectorizer = CountVectorizer(max_df=1,min_df=1,binary=True)\n",
    "X_train = vectorizer.fit_transform()\n"
   ]
  },
  {
   "cell_type": "code",
   "execution_count": 32,
   "metadata": {},
   "outputs": [],
   "source": [
    "#train_data = readCsv(TRAIN_FILE)\n",
    "#train  = [x[2] for x in train_data]\n",
    "#f = normalize(train)\n",
    "#print(train[166])\n",
    "#print(normalize(train[166]))\n",
    "#print('\\n\\n\\n\\n\\n\\n')\n",
    "#print(f[166])"
   ]
  },
  {
   "cell_type": "code",
   "execution_count": 51,
   "metadata": {},
   "outputs": [],
   "source": [
    "vectorizer = CountVectorizer(max_df=1,min_df=1,binary=True)\n",
    "X_train = vectorizer.fit_transform(X_train)\n",
    "X_test = vectorizer.fit_transform(X_test)"
   ]
  },
  {
   "cell_type": "code",
   "execution_count": 34,
   "metadata": {},
   "outputs": [
    {
     "data": {
      "text/plain": [
       "(2631, 8057)"
      ]
     },
     "execution_count": 34,
     "metadata": {},
     "output_type": "execute_result"
    }
   ],
   "source": [
    "X_train.shape"
   ]
  },
  {
   "cell_type": "code",
   "execution_count": null,
   "metadata": {
    "collapsed": true
   },
   "outputs": [],
   "source": []
  }
 ],
 "metadata": {
  "kernelspec": {
   "display_name": "Python 3",
   "language": "python",
   "name": "python3"
  },
  "language_info": {
   "codemirror_mode": {
    "name": "ipython",
    "version": 3
   },
   "file_extension": ".py",
   "mimetype": "text/x-python",
   "name": "python",
   "nbconvert_exporter": "python",
   "pygments_lexer": "ipython3",
   "version": "3.6.3"
  }
 },
 "nbformat": 4,
 "nbformat_minor": 2
}
